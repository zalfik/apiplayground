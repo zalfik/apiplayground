{
 "cells": [
  {
   "cell_type": "code",
   "execution_count": 3,
   "metadata": {},
   "outputs": [],
   "source": [
    "import pandas as pd\n",
    "from requests import request\n",
    "import json\n",
    "from datetime import datetime\n",
    "today_timestamp = datetime.now().strftime(\"%Y%m%d\")"
   ]
  },
  {
   "cell_type": "code",
   "execution_count": 14,
   "metadata": {},
   "outputs": [],
   "source": [
    "# Run this to download newest data\n",
    "\n",
    "CURRENT_JOB = \"seriea_results\"\n",
    "# Read credentials file\n",
    "with open(\"credentials.json\", mode=\"r\") as creds_file:\n",
    "    credentials = json.load(creds_file)\n",
    "\n",
    "# Get response\n",
    "url = credentials[CURRENT_JOB][\"url\"]\n",
    "headers = credentials[CURRENT_JOB][\"headers\"]\n",
    "response = request(\"GET\", url, headers=headers)\n",
    "\n",
    "# Read the data current data file\n",
    "with open(\"data.json\", mode=\"r\") as saved_data_file:\n",
    "    saved_data = json.load(saved_data_file)\n",
    "\n",
    "# Save latest in archive directory\n",
    "archive_path = f\"archive/data_{today_timestamp}.json\"\n",
    "with open(archive_path, mode=\"w\") as archive_file:\n",
    "    json.dump(saved_data, archive_file)\n",
    "\n",
    "# Check if response was successful\n",
    "if response.status_code == 200:\n",
    "    # Get the data from the API response\n",
    "    temp_data = response.json()\n",
    "    \n",
    "    # Write the data to a JSON file\n",
    "    file_path = f\"downloads/raw_data_{today_timestamp}.json\"\n",
    "    with open(file_path, \"w\") as file:\n",
    "        json.dump(temp_data, file)\n",
    "    \n",
    "    # Clean temp_data\n",
    "    cleansed_temp_data = {}\n",
    "    for matchday, game_list in temp_data[0].items():\n",
    "        cleansed_temp_data[matchday.strip()] = game_list\n",
    "\n",
    "    # Update records from the latest download        \n",
    "    updated_data =  saved_data | cleansed_temp_data\n",
    "    with open(\"data.json\", mode=\"w\") as updated_data_file:\n",
    "        json.dump(updated_data, updated_data_file)\n",
    "    \n",
    "else:\n",
    "    # Handle the error\n",
    "    print('Failed to retrieve data from API. Error code:', response.status_code)"
   ]
  },
  {
   "cell_type": "code",
   "execution_count": null,
   "metadata": {},
   "outputs": [],
   "source": [
    "# Run this block to see the results\n",
    "with open(\"data.json\", mode=\"r\") as data_file:\n",
    "    saved_data = json.load(data_file)\n",
    "\n",
    "# need to figure out sorting this\n",
    "\n",
    "for matchday, game_list in saved_data.items():\n",
    "    print(matchday)\n",
    "    for game in game_list:\n",
    "        # print(game)\n",
    "        print(f\"{game['homeTeam']} {game['homeTeamScore']}-{game['awayTeamScore']} {game['awayTeam']}\")\n",
    "    print(\"<><><><><><>\")"
   ]
  }
 ],
 "metadata": {
  "kernelspec": {
   "display_name": "Python 3",
   "language": "python",
   "name": "python3"
  },
  "language_info": {
   "codemirror_mode": {
    "name": "ipython",
    "version": 3
   },
   "file_extension": ".py",
   "mimetype": "text/x-python",
   "name": "python",
   "nbconvert_exporter": "python",
   "pygments_lexer": "ipython3",
   "version": "3.10.8"
  },
  "orig_nbformat": 4
 },
 "nbformat": 4,
 "nbformat_minor": 2
}
